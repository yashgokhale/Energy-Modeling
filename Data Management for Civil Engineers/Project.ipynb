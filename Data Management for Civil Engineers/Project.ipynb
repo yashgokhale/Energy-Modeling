{
 "cells": [
  {
   "cell_type": "code",
   "execution_count": 1,
   "metadata": {
    "scrolled": true
   },
   "outputs": [],
   "source": [
    "#pip install pandasql"
   ]
  },
  {
   "cell_type": "code",
   "execution_count": 2,
   "metadata": {},
   "outputs": [],
   "source": [
    "import pandas as pd\n",
    "import os\n",
    "import pandasql as ps\n",
    "import glob\n",
    "import matplotlib.pyplot as plt\n",
    "import numpy as np\n",
    "os.chdir('C:/Users/yashg/OneDrive/Desktop/CMU/Fall 2020/Data Management/')"
   ]
  },
  {
   "cell_type": "code",
   "execution_count": 3,
   "metadata": {},
   "outputs": [],
   "source": [
    "data=pd.read_csv(glob.glob('*.csv')[0])"
   ]
  },
  {
   "cell_type": "code",
   "execution_count": 4,
   "metadata": {},
   "outputs": [],
   "source": [
    "dic={'1':'Kitchen','2':'Living Room','3':'Laundry Room','4':'Office Room','5':'Bathroom','6':'North building',\n",
    "    '7':'Ironing Room','8':'Teenager room','9':'Parents room'}"
   ]
  },
  {
   "cell_type": "code",
   "execution_count": 5,
   "metadata": {},
   "outputs": [
    {
     "data": {
      "text/plain": [
       "['Kitchen',\n",
       " 'Living Room',\n",
       " 'Laundry Room',\n",
       " 'Office Room',\n",
       " 'Bathroom',\n",
       " 'North building',\n",
       " 'Ironing Room',\n",
       " 'Teenager room',\n",
       " 'Parents room']"
      ]
     },
     "execution_count": 5,
     "metadata": {},
     "output_type": "execute_result"
    }
   ],
   "source": [
    "list(dic.values())"
   ]
  },
  {
   "cell_type": "code",
   "execution_count": 6,
   "metadata": {},
   "outputs": [],
   "source": [
    "ids=np.linspace(1,len(data),len(data)).astype(int)\n",
    "data['Sample ID']=ids"
   ]
  },
  {
   "cell_type": "code",
   "execution_count": 7,
   "metadata": {},
   "outputs": [
    {
     "data": {
      "text/plain": [
       "('2016-01-11 17:00:00', '00')"
      ]
     },
     "execution_count": 7,
     "metadata": {},
     "output_type": "execute_result"
    }
   ],
   "source": [
    "data['date'][0], data['date'][0][17:19]"
   ]
  },
  {
   "cell_type": "code",
   "execution_count": 8,
   "metadata": {},
   "outputs": [],
   "source": [
    "yr=np.array([data['date'][i][0:4] for i in range(len(data['date']))]).astype(int)\n",
    "mon=np.array([data['date'][i][5:7] for i in range(len(data['date']))]).astype(int)\n",
    "day=np.array([data['date'][i][8:10] for i in range(len(data['date']))]).astype(int)\n",
    "hr=np.array([data['date'][i][11:13] for i in range(len(data['date']))]).astype(int)\n",
    "m=np.array([data['date'][i][14:16] for i in range(len(data['date']))]).astype(int)\n",
    "s=np.array([data['date'][i][17:19] for i in range(len(data['date']))]).astype(int)"
   ]
  },
  {
   "cell_type": "code",
   "execution_count": 9,
   "metadata": {},
   "outputs": [],
   "source": [
    "data['Year']=yr\n",
    "data['Month']=mon\n",
    "data['Day']=day\n",
    "data['Hour']=hr\n",
    "data['Min']=m\n",
    "data['Sec']=s"
   ]
  },
  {
   "cell_type": "code",
   "execution_count": 10,
   "metadata": {},
   "outputs": [
    {
     "name": "stdout",
     "output_type": "stream",
     "text": [
      "Deleted already\n"
     ]
    }
   ],
   "source": [
    "try:\n",
    "    data=data.drop(columns=['rv1','rv2'])\n",
    "except:\n",
    "    print('Deleted already')"
   ]
  },
  {
   "cell_type": "code",
   "execution_count": 11,
   "metadata": {},
   "outputs": [],
   "source": [
    "#ps.sqldf(\"select Appliances from data where Day='11'\")"
   ]
  },
  {
   "cell_type": "code",
   "execution_count": 12,
   "metadata": {},
   "outputs": [],
   "source": [
    "#Creating additional attributes\n",
    "def create_cats_temp(T,T_outside):\n",
    "    labels=[]\n",
    "    for i,x in enumerate(T):\n",
    "        if x-T_outside[i]>0:\n",
    "            labels.append('Hotter than surroundings')\n",
    "        elif x-T_outside[i]<0:\n",
    "            labels.append('Colder than surroundings')\n",
    "        else:\n",
    "            labels.append('Same temperature as surroundings')\n",
    "    return labels\n",
    "\n",
    "def create_cats_hum(RH,RH_outside):\n",
    "    labels=[]\n",
    "    for i,x in enumerate(RH):\n",
    "        if x-RH_outside[i]>0:\n",
    "            labels.append('More humid than surroundings')\n",
    "        elif x-T_outside[i]<0:\n",
    "            labels.append('Less humid than surroundings')\n",
    "        else:\n",
    "            labels.append('Same humidity as surroundings')\n",
    "    return labels            "
   ]
  },
  {
   "cell_type": "code",
   "execution_count": 13,
   "metadata": {},
   "outputs": [],
   "source": [
    "T_out=data['T_out']\n",
    "RH_out=data['RH_out']\n",
    "Ts=['T1','T2','T3','T4','T5','T6','T7','T8','T9']\n",
    "RHs=['RH_1','RH_2','RH_3','RH_4','RH_5','RH_6','RH_7','RH_8','RH_9']"
   ]
  },
  {
   "cell_type": "code",
   "execution_count": 14,
   "metadata": {},
   "outputs": [],
   "source": [
    "for x in Ts:\n",
    "    data[f'{x}_flag']=create_cats_temp(data[x],T_out)\n",
    "for x in RHs:\n",
    "    data[f'{x}_flag']=create_cats_temp(data[x],RH_out)"
   ]
  },
  {
   "cell_type": "code",
   "execution_count": 46,
   "metadata": {},
   "outputs": [
    {
     "data": {
      "image/png": "[encoded data removed]",
      "text/plain": [
       "<Figure size 432x288 with 1 Axes>"
      ]
     },
     "metadata": {
      "needs_background": "light"
     },
     "output_type": "display_data"
    }
   ],
   "source": [
    "plt.hist(data['Appliances'])\n",
    "plt.xlabel('Usage (kWh)')\n",
    "plt.ylabel('Frequency')\n",
    "plt.title('Appliance usage')\n",
    "plt.savefig('C:/Users/yashg/OneDrive/Desktop/CMU/Fall 2020/Data Management/imgs/appliances.jpg')\n",
    "plt.show()"
   ]
  },
  {
   "cell_type": "code",
   "execution_count": 16,
   "metadata": {},
   "outputs": [],
   "source": [
    "app_ratings=[]\n",
    "for x in data['Appliances']:\n",
    "    if x<=100:\n",
    "        app_ratings.append('Low Energy Use')\n",
    "    elif (x>100) and (x<=300):\n",
    "        app_ratings.append('Moderate Energy Use')\n",
    "    else:\n",
    "        app_ratings.append('High Energy Use')\n",
    "data['Appliances_flag']=app_ratings"
   ]
  },
  {
   "cell_type": "code",
   "execution_count": 47,
   "metadata": {},
   "outputs": [
    {
     "data": {
      "image/png": "[encoded data removed]",
      "text/plain": [
       "<Figure size 432x288 with 1 Axes>"
      ]
     },
     "metadata": {
      "needs_background": "light"
     },
     "output_type": "display_data"
    }
   ],
   "source": [
    "plt.hist(data['lights'])\n",
    "plt.xlabel('Usage (kWh)')\n",
    "plt.ylabel('Frequency')\n",
    "plt.title('Light usage')\n",
    "plt.savefig('C:/Users/yashg/OneDrive/Desktop/CMU/Fall 2020/Data Management/imgs/lights.jpg')\n",
    "plt.show()"
   ]
  },
  {
   "cell_type": "code",
   "execution_count": 18,
   "metadata": {},
   "outputs": [],
   "source": [
    "light_ratings=[]\n",
    "for x in data['lights']:\n",
    "    if x<=10:\n",
    "        light_ratings.append('Low Light Use')\n",
    "    elif (x>10) and (x<=25):\n",
    "        light_ratings.append('Moderate Light Use')\n",
    "    else:\n",
    "        light_ratings.append('High Light Use')\n",
    "data['lights_flag']=light_ratings"
   ]
  },
  {
   "cell_type": "code",
   "execution_count": 19,
   "metadata": {},
   "outputs": [],
   "source": [
    "dews=[]\n",
    "for i in range(len(data['Tdewpoint'])):\n",
    "    if data['Tdewpoint'][i]>=data['T_out'][i]:\n",
    "        dews.append('Dew is likely')\n",
    "    else:\n",
    "        dews.append('Dew is unlikely')\n",
    "data['Dew']=dews"
   ]
  },
  {
   "cell_type": "code",
   "execution_count": 48,
   "metadata": {},
   "outputs": [
    {
     "data": {
      "image/png": "[encoded data removed]",
      "text/plain": [
       "<Figure size 432x288 with 1 Axes>"
      ]
     },
     "metadata": {
      "needs_background": "light"
     },
     "output_type": "display_data"
    }
   ],
   "source": [
    "plt.hist(data['Visibility'])\n",
    "plt.xlabel('Visibility (km)')\n",
    "plt.ylabel('Frequency')\n",
    "plt.title('Visibility')\n",
    "plt.savefig('C:/Users/yashg/OneDrive/Desktop/CMU/Fall 2020/Data Management/imgs/visibility.jpg')\n",
    "plt.show()"
   ]
  },
  {
   "cell_type": "code",
   "execution_count": 21,
   "metadata": {},
   "outputs": [],
   "source": [
    "visibility_flag=[]\n",
    "for x in data['Visibility']:\n",
    "    if x<=20:\n",
    "        visibility_flag.append('Low visibility')\n",
    "    elif (x>20) and (x<=45):\n",
    "        visibility_flag.append('Moderate visibility')\n",
    "    else:\n",
    "        visibility_flag.append('High visibility')\n",
    "data['Visibility_flag']=visibility_flag"
   ]
  },
  {
   "cell_type": "code",
   "execution_count": 49,
   "metadata": {},
   "outputs": [
    {
     "data": {
      "image/png": "[encoded data removed]",
      "text/plain": [
       "<Figure size 432x288 with 1 Axes>"
      ]
     },
     "metadata": {
      "needs_background": "light"
     },
     "output_type": "display_data"
    }
   ],
   "source": [
    "plt.hist(data['Windspeed'])\n",
    "plt.xlabel('Windspeed (m/s)')\n",
    "plt.ylabel('Frequency')\n",
    "plt.title('Wind speed')\n",
    "plt.savefig('C:/Users/yashg/OneDrive/Desktop/CMU/Fall 2020/Data Management/imgs/wind.jpg')\n",
    "plt.show()\n",
    "#https://www.windows2universe.org/earth/Atmosphere/wind_speeds.html"
   ]
  },
  {
   "cell_type": "code",
   "execution_count": 23,
   "metadata": {},
   "outputs": [],
   "source": [
    "wind_flag=[]\n",
    "for x in data['Windspeed']:\n",
    "    if x<1:\n",
    "        wind_flag.append('Calm')\n",
    "    elif (x>=1) and (x<5):\n",
    "        wind_flag.append('Light Air')\n",
    "    elif (x>=5) and (x<10):\n",
    "        wind_flag.append('Light breeze')\n",
    "    elif (x>=10):\n",
    "        wind_flag.append('Windy breeze')\n",
    "data['Windspeed_flag']=wind_flag        "
   ]
  },
  {
   "cell_type": "code",
   "execution_count": 24,
   "metadata": {},
   "outputs": [],
   "source": [
    "press_flag=[]\n",
    "for x in data['Press_mm_hg']:\n",
    "    if (x-760)==0:\n",
    "        press_flag.append('Atmospheric pressure')\n",
    "    elif (x-760)>0:\n",
    "        press_flag.append('Above atmospheric pressure')\n",
    "    elif (x-760)<0:\n",
    "        press_flag.append('Below atmospheric pressure')\n",
    "data['Pressure_flag']=press_flag"
   ]
  },
  {
   "cell_type": "code",
   "execution_count": 50,
   "metadata": {},
   "outputs": [
    {
     "data": {
      "image/png": "[encoded data removed]",
      "text/plain": [
       "<Figure size 432x288 with 1 Axes>"
      ]
     },
     "metadata": {
      "needs_background": "light"
     },
     "output_type": "display_data"
    }
   ],
   "source": [
    "plt.hist(data['Press_mm_hg'])\n",
    "plt.xlabel('Pressure (mm Hg)')\n",
    "plt.ylabel('Frequency')\n",
    "plt.title('Pressure (mm Hg)')\n",
    "plt.savefig('C:/Users/yashg/OneDrive/Desktop/CMU/Fall 2020/Data Management/imgs/pressure.jpg')\n",
    "plt.show()"
   ]
  },
  {
   "cell_type": "code",
   "execution_count": 25,
   "metadata": {},
   "outputs": [
    {
     "data": {
      "text/plain": [
       "Index(['Unnamed: 0', 'date', 'Appliances', 'lights', 'T1', 'RH_1', 'T2',\n",
       "       'RH_2', 'T3', 'RH_3', 'T4', 'RH_4', 'T5', 'RH_5', 'T6', 'RH_6', 'T7',\n",
       "       'RH_7', 'T8', 'RH_8', 'T9', 'RH_9', 'T_out', 'Press_mm_hg', 'RH_out',\n",
       "       'Windspeed', 'Visibility', 'Tdewpoint', 'Year', 'Month', 'Day', 'Hour',\n",
       "       'Min', 'Sec', 'T1_flag', 'T2_flag', 'T3_flag', 'T4_flag', 'T5_flag',\n",
       "       'T6_flag', 'T7_flag', 'T8_flag', 'T9_flag', 'RH_1_flag', 'RH_2_flag',\n",
       "       'RH_3_flag', 'RH_4_flag', 'RH_5_flag', 'RH_6_flag', 'RH_7_flag',\n",
       "       'RH_8_flag', 'RH_9_flag', 'Appliances_flag', 'lights_flag', 'Dew',\n",
       "       'Visibility_flag', 'Windspeed_flag', 'Sample ID', 'Pressure_flag'],\n",
       "      dtype='object')"
      ]
     },
     "execution_count": 25,
     "metadata": {},
     "output_type": "execute_result"
    }
   ],
   "source": [
    "data.columns"
   ]
  },
  {
   "cell_type": "code",
   "execution_count": 26,
   "metadata": {},
   "outputs": [
    {
     "data": {
      "text/plain": [
       "12096"
      ]
     },
     "execution_count": 26,
     "metadata": {},
     "output_type": "execute_result"
    }
   ],
   "source": [
    "len(ps.sqldf(\"select date from data where Appliances_flag='Low Energy Use' AND Visibility_flag='Moderate visibility'\"))"
   ]
  },
  {
   "cell_type": "code",
   "execution_count": 27,
   "metadata": {},
   "outputs": [
    {
     "data": {
      "text/plain": [
       "Index(['Unnamed: 0', 'date', 'Appliances', 'lights', 'T1', 'RH_1', 'T2',\n",
       "       'RH_2', 'T3', 'RH_3', 'T4', 'RH_4', 'T5', 'RH_5', 'T6', 'RH_6', 'T7',\n",
       "       'RH_7', 'T8', 'RH_8', 'T9', 'RH_9', 'T_out', 'Press_mm_hg', 'RH_out',\n",
       "       'Windspeed', 'Visibility', 'Tdewpoint', 'Year', 'Month', 'Day', 'Hour',\n",
       "       'Min', 'Sec', 'T1_flag', 'T2_flag', 'T3_flag', 'T4_flag', 'T5_flag',\n",
       "       'T6_flag', 'T7_flag', 'T8_flag', 'T9_flag', 'RH_1_flag', 'RH_2_flag',\n",
       "       'RH_3_flag', 'RH_4_flag', 'RH_5_flag', 'RH_6_flag', 'RH_7_flag',\n",
       "       'RH_8_flag', 'RH_9_flag', 'Appliances_flag', 'lights_flag', 'Dew',\n",
       "       'Visibility_flag', 'Windspeed_flag', 'Sample ID', 'Pressure_flag'],\n",
       "      dtype='object')"
      ]
     },
     "execution_count": 27,
     "metadata": {},
     "output_type": "execute_result"
    }
   ],
   "source": [
    "data.columns"
   ]
  },
  {
   "cell_type": "code",
   "execution_count": 28,
   "metadata": {},
   "outputs": [],
   "source": [
    "times=data[['Sample ID','Year','Month','Day','Hour','Min','Sec']]\n",
    "times.to_csv('C:/Users/yashg/OneDrive/Desktop/CMU/Fall 2020/Data Management/Project_datafiles/times.csv',index=False)"
   ]
  },
  {
   "cell_type": "code",
   "execution_count": 29,
   "metadata": {},
   "outputs": [],
   "source": [
    "common_areas=data[['Sample ID','T1','RH_1','T2','RH_2','T5','RH_5']]\n",
    "common_areas.columns=['Sample ID','T_Kitchen','RH_Kitchen','T_LivingRoom','RH_LivingRoom','T_Bathroom','RH_Bathroom']\n",
    "common_areas.to_csv('C:/Users/yashg/OneDrive/Desktop/CMU/Fall 2020/Data Management/Project_datafiles/commonareas.csv',index=False)"
   ]
  },
  {
   "cell_type": "code",
   "execution_count": 30,
   "metadata": {},
   "outputs": [],
   "source": [
    "personal_areas=data[['Sample ID','T8','RH_8','T9','RH_9']]\n",
    "personal_areas.columns=['Sample ID','T_Teenagerroom','RH_Teenagerroom','T_Parentsroom','RH_Parentsroom']\n",
    "personal_areas.to_csv('C:/Users/yashg/OneDrive/Desktop/CMU/Fall 2020/Data Management/Project_datafiles/personalareas.csv',index=False)"
   ]
  },
  {
   "cell_type": "code",
   "execution_count": 31,
   "metadata": {},
   "outputs": [],
   "source": [
    "subordinate_areas=data[['Sample ID','T3','RH_3','T4','RH_4','T6','RH_6','T7','RH_7']]\n",
    "subordinate_areas.columns=['Sample ID','T_Laundryroom','RH_Laundryroom','T_Officeroom','RH_Officeroom','T_Northend','RH_Northend','T_Ironingroom','RH_Ironingroom']\n",
    "subordinate_areas.to_csv('C:/Users/yashg/OneDrive/Desktop/CMU/Fall 2020/Data Management/Project_datafiles/subordinateareas.csv',index=False)"
   ]
  },
  {
   "cell_type": "code",
   "execution_count": 32,
   "metadata": {},
   "outputs": [],
   "source": [
    "weather=data[['Sample ID','T_out','Press_mm_hg','RH_out','Windspeed','Visibility','Tdewpoint']]\n",
    "weather.to_csv('C:/Users/yashg/OneDrive/Desktop/CMU/Fall 2020/Data Management/Project_datafiles/weather.csv',index=False)"
   ]
  },
  {
   "cell_type": "code",
   "execution_count": 33,
   "metadata": {},
   "outputs": [],
   "source": [
    "ts=['Sample ID']+[f'T{i}_flag' for i in range(1,10)]\n",
    "temp_flags=data[ts]\n",
    "temp_flags.columns=['Sample ID']+list(dic.values())\n",
    "temp_flags.to_csv('C:/Users/yashg/OneDrive/Desktop/CMU/Fall 2020/Data Management/Project_datafiles/tempflags.csv',index=False)"
   ]
  },
  {
   "cell_type": "code",
   "execution_count": 34,
   "metadata": {},
   "outputs": [],
   "source": [
    "rhs=['Sample ID']+[f'RH_{i}_flag' for i in range(1,10)]\n",
    "RH_flags=data[rhs]\n",
    "RH_flags.columns=['Sample ID']+list(dic.values())\n",
    "RH_flags.to_csv('C:/Users/yashg/OneDrive/Desktop/CMU/Fall 2020/Data Management/Project_datafiles/RHflags.csv',index=False)"
   ]
  },
  {
   "cell_type": "code",
   "execution_count": 35,
   "metadata": {},
   "outputs": [],
   "source": [
    "use=data[['Sample ID','Appliances','Appliances_flag','lights','lights_flag']]\n",
    "use.columns=['Sample ID','Appliances','Appliance Use Type','lights','lights Use Type']\n",
    "use.to_csv('C:/Users/yashg/OneDrive/Desktop/CMU/Fall 2020/Data Management/Project_datafiles/use.csv',index=False)"
   ]
  },
  {
   "cell_type": "code",
   "execution_count": 36,
   "metadata": {},
   "outputs": [],
   "source": [
    "outside=data[['Sample ID','Dew','Visibility_flag', 'Windspeed_flag', 'Pressure_flag']]\n",
    "outside.columns=['Sample ID','Dew','Visibility','Windspeed','Pressure']\n",
    "outside.to_csv('C:/Users/yashg/OneDrive/Desktop/CMU/Fall 2020/Data Management/Project_datafiles/outside.csv',index=False)"
   ]
  }
 ],
 "metadata": {
  "kernelspec": {
   "display_name": "Python 3",
   "language": "python",
   "name": "python3"
  },
  "language_info": {
   "codemirror_mode": {
    "name": "ipython",
    "version": 3
   },
   "file_extension": ".py",
   "mimetype": "text/x-python",
   "name": "python",
   "nbconvert_exporter": "python",
   "pygments_lexer": "ipython3",
   "version": "3.7.3"
  }
 },
 "nbformat": 4,
 "nbformat_minor": 2
}
